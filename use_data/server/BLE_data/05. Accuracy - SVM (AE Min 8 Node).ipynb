{
 "cells": [
  {
   "cell_type": "markdown",
   "metadata": {},
   "source": [
    "# Accuracy - SVM (AE Min 8 Node)"
   ]
  },
  {
   "cell_type": "markdown",
   "metadata": {},
   "source": [
    "### Import List"
   ]
  },
  {
   "cell_type": "code",
   "execution_count": 1,
   "metadata": {},
   "outputs": [
    {
     "name": "stderr",
     "output_type": "stream",
     "text": [
      "C:\\Users\\KSY\\Anaconda3\\lib\\site-packages\\sklearn\\externals\\six.py:31: DeprecationWarning: The module is deprecated in version 0.21 and will be removed in version 0.23 since we've dropped support for Python 2.7. Please rely on the official version of six (https://pypi.org/project/six/).\n",
      "  \"(https://pypi.org/project/six/).\", DeprecationWarning)\n",
      "C:\\Users\\KSY\\Anaconda3\\lib\\site-packages\\sklearn\\externals\\joblib\\__init__.py:15: DeprecationWarning: sklearn.externals.joblib is deprecated in 0.21 and will be removed in 0.23. Please import this functionality directly from joblib, which can be installed with: pip install joblib. If this warning is raised when loading pickled models, you may need to re-serialize those models with scikit-learn 0.21+.\n",
      "  warnings.warn(msg, category=DeprecationWarning)\n"
     ]
    }
   ],
   "source": [
    "import matplotlib.pyplot as plt\n",
    "import mglearn\n",
    "import numpy as np\n",
    "import os\n",
    "import random\n",
    "import pickle"
   ]
  },
  {
   "cell_type": "markdown",
   "metadata": {},
   "source": [
    "### Method Definition"
   ]
  },
  {
   "cell_type": "code",
   "execution_count": 2,
   "metadata": {},
   "outputs": [],
   "source": [
    "base_dir = \"..\\\\..\\\\..\\\\data\\\\BLE_data\\\\\"\n",
    "def read_test_data(set_num, model_name, mode):\n",
    "    if model_name == 5:\n",
    "        raw_data = np.loadtxt(base_dir + \"raw_data\\\\in_\" + mode + \"_\" + str(set_num) + '.csv', delimiter=',', dtype=np.float32)\n",
    "    elif model_name == 6:\n",
    "        raw_data = np.loadtxt(base_dir + \"raw_data\\\\out_\" + mode + \"_\" + str(set_num) + '.csv', delimiter=',', dtype=np.float32)\n",
    "    b_data    = raw_data[:,0:3]\n",
    "    cell_data = raw_data[:,3:13]\n",
    "\n",
    "    return b_data, cell_data\n",
    "\n",
    "def read_denoised_test_data(set_num, model_name, mode):\n",
    "    if model_name == 5:\n",
    "        raw_data = np.loadtxt(base_dir + \"filtered_data\\\\in_\" + mode + \"_\" + str(set_num) + '_denoised.csv', delimiter=',', dtype=np.float32)\n",
    "    elif model_name == 6:\n",
    "        raw_data = np.loadtxt(base_dir + \"filtered_data\\\\out_\" + mode + \"_\" + str(set_num) + '_denoised.csv', delimiter=',', dtype=np.float32)\n",
    "    b_data    = raw_data[:,0:3]\n",
    "    cell_data = raw_data[:,3:13]\n",
    "\n",
    "    return b_data, cell_data\n",
    "\n",
    "def make_plot(y, num, begin, end):  \n",
    "    fig = plt.figure(figsize=(15, 5))\n",
    "    fig.patch.set_facecolor('xkcd:white')\n",
    "    x = range(len(y))\n",
    "    plt.bar(x, y, color=\"blue\")\n",
    "    plt.axis([0, num, begin, end])\n",
    "    plt.show()"
   ]
  },
  {
   "cell_type": "markdown",
   "metadata": {},
   "source": [
    "## Start"
   ]
  },
  {
   "cell_type": "code",
   "execution_count": 3,
   "metadata": {},
   "outputs": [],
   "source": [
    "# model_name: 5 (car_in) / 6 (car_out)\n",
    "# Car-in data\n",
    "model_name = 5\n",
    "set_num = 6000\n",
    "train_set_num = int(set_num * 0.75)\n",
    "test_set_num = int(set_num * 0.25)\n",
    "\n",
    "x_in_train_noisy, y_in_train_noisy = read_test_data(train_set_num, model_name, \"train\")\n",
    "x_in_train_denoised, y_in_train_denoised = read_denoised_test_data(train_set_num, model_name, \"train\")\n",
    "x_in_test_noisy, y_in_test_noisy = read_test_data(test_set_num, model_name, \"test\")\n",
    "x_in_test_denoised, y_in_test_denoised = read_denoised_test_data(test_set_num, model_name, \"test\")"
   ]
  },
  {
   "cell_type": "code",
   "execution_count": 4,
   "metadata": {},
   "outputs": [],
   "source": [
    "# model_name: 5 (car_in) / 6 (car_out)\n",
    "# Car-out data\n",
    "model_name = 6\n",
    "set_num = 6000\n",
    "train_set_num = int(set_num * 0.75)\n",
    "test_set_num = int(set_num * 0.25)\n",
    "\n",
    "x_out_train_noisy, y_out_train_noisy = read_test_data(train_set_num, model_name, \"train\")\n",
    "x_out_train_denoised, y_out_train_denoised = read_denoised_test_data(train_set_num, model_name, \"train\")\n",
    "x_out_test_noisy, y_out_test_noisy = read_test_data(test_set_num, model_name, \"test\")\n",
    "x_out_test_denoised, y_out_test_denoised = read_denoised_test_data(test_set_num, model_name, \"test\")"
   ]
  },
  {
   "cell_type": "code",
   "execution_count": 5,
   "metadata": {},
   "outputs": [],
   "source": [
    "# Car-in\n",
    "ae_x_in_train_noisy = x_in_train_noisy.astype('float32') / -100.\n",
    "ae_x_in_train_denoised = x_in_train_denoised.astype('float32') / -100.\n",
    "ae_x_in_test_noisy = x_in_test_noisy.astype('float32') / -100.\n",
    "ae_x_in_test_denoised = x_in_test_denoised.astype('float32') / -100."
   ]
  },
  {
   "cell_type": "code",
   "execution_count": 6,
   "metadata": {},
   "outputs": [],
   "source": [
    "# Car-out\n",
    "ae_x_out_train_noisy = x_out_train_noisy.astype('float32') / -100.\n",
    "ae_x_out_train_denoised = x_out_train_denoised.astype('float32') / -100.\n",
    "ae_x_out_test_noisy = x_out_test_noisy.astype('float32') / -100.\n",
    "ae_x_out_test_denoised = x_out_test_denoised.astype('float32') / -100."
   ]
  },
  {
   "cell_type": "markdown",
   "metadata": {},
   "source": [
    "## Autoencoder - Denoising (Car in)"
   ]
  },
  {
   "cell_type": "code",
   "execution_count": 7,
   "metadata": {
    "scrolled": true
   },
   "outputs": [
    {
     "name": "stderr",
     "output_type": "stream",
     "text": [
      "Using TensorFlow backend.\n"
     ]
    }
   ],
   "source": [
    "from keras.layers import Input, Dense\n",
    "from keras.models import Model\n",
    "from keras.models import load_model\n",
    "\n",
    "autoencoder_01 = load_model('autoencoder_01.h5')"
   ]
  },
  {
   "cell_type": "markdown",
   "metadata": {},
   "source": [
    "## Autoencoder - Denoising (Car out)"
   ]
  },
  {
   "cell_type": "code",
   "execution_count": 8,
   "metadata": {},
   "outputs": [],
   "source": [
    "autoencoder_02 = load_model('autoencoder_02.h5')"
   ]
  },
  {
   "cell_type": "markdown",
   "metadata": {},
   "source": [
    "## Autoencoder - Converting"
   ]
  },
  {
   "cell_type": "markdown",
   "metadata": {},
   "source": [
    "## Description\n",
    "- Autoencoder\n",
    "    - Car in (noisy)를 Autoencoder에 넣은 결과 Car in (denoised)\n",
    "    - Car in (denoised) 입력\n",
    "    - Car out (denoised) 정답"
   ]
  },
  {
   "cell_type": "code",
   "execution_count": 9,
   "metadata": {},
   "outputs": [],
   "source": [
    "autoencoder_03 = load_model('autoencoder_03.h5')"
   ]
  },
  {
   "cell_type": "markdown",
   "metadata": {},
   "source": [
    "## Autoencoder - Converting"
   ]
  },
  {
   "cell_type": "markdown",
   "metadata": {},
   "source": [
    "## Description\n",
    "- Autoencoder\n",
    "    - Car in (denoised) 입력\n",
    "    - Car out (denoised) 정답"
   ]
  },
  {
   "cell_type": "code",
   "execution_count": 10,
   "metadata": {
    "scrolled": true
   },
   "outputs": [],
   "source": [
    "autoencoder_04 = load_model('autoencoder_04.h5')"
   ]
  },
  {
   "cell_type": "code",
   "execution_count": null,
   "metadata": {},
   "outputs": [],
   "source": []
  },
  {
   "cell_type": "markdown",
   "metadata": {},
   "source": [
    "# [ 방법 1 ]\n",
    "## 데이터 10개의 평균 사용"
   ]
  },
  {
   "cell_type": "code",
   "execution_count": 11,
   "metadata": {},
   "outputs": [],
   "source": [
    "import numpy as np\n",
    "\n",
    "def average(x, y, set_num, data_num):\n",
    "    idx = 0\n",
    "    sum = np.array([0, 0, 0])\n",
    "    data = [[0 for col in range(3)] for row in range(int(set_num * 10 / data_num))]\n",
    "    label = [[0 for col in range(10)] for row in range(int(set_num * 10 / data_num))]\n",
    "    for i in range(set_num * 10):\n",
    "        for j in range(3):\n",
    "            sum[j] += x[i][j]\n",
    "        if(i % data_num == data_num - 1):\n",
    "            for j in range(3):\n",
    "                data[idx][j] = int(round(sum[j] / data_num))\n",
    "            for j in range(10):\n",
    "                label[idx][j] = y[i][j]\n",
    "            idx += 1\n",
    "            sum = np.array([0, 0, 0])    \n",
    "    return data, label"
   ]
  },
  {
   "cell_type": "code",
   "execution_count": 12,
   "metadata": {},
   "outputs": [],
   "source": [
    "after_autoencoder_x_train = autoencoder_01.predict(ae_x_in_train_noisy) * (-100)\n",
    "x_train, y_train = average(after_autoencoder_x_train, y_in_train_noisy, 4500, 10)"
   ]
  },
  {
   "cell_type": "code",
   "execution_count": 13,
   "metadata": {},
   "outputs": [],
   "source": [
    "after_autoencoder_x_test = autoencoder_01.predict(ae_x_in_test_noisy) * (-100)\n",
    "x_test, y_test = average(after_autoencoder_x_test, y_in_test_noisy, 1500, 10)"
   ]
  },
  {
   "cell_type": "code",
   "execution_count": null,
   "metadata": {},
   "outputs": [],
   "source": []
  },
  {
   "cell_type": "markdown",
   "metadata": {},
   "source": [
    "## Test with SVM Model"
   ]
  },
  {
   "cell_type": "code",
   "execution_count": 14,
   "metadata": {},
   "outputs": [],
   "source": [
    "from sklearn.svm import SVC\n",
    "import numpy as np\n",
    "\n",
    "def one_hot_convert_normal(data, end_line, output_num):\n",
    "    list_data = []\n",
    "\n",
    "    for row in range(0, end_line):\n",
    "        for column in range(0, output_num):\n",
    "            if data[row][column] == 1:\n",
    "                list_data.append(column + 1)\n",
    "    return list_data"
   ]
  },
  {
   "cell_type": "markdown",
   "metadata": {},
   "source": [
    "# Description\n",
    "- SVM_01 (svc_01)\n",
    "    - Car in (noisy)를 AE_03에 넣으면 결과 Car out (denoised = converted)\n",
    "    - Car out (denoised = converted)를 입력 (Input)\n",
    "- SVM_02 (svc_02)\n",
    "    - Car in (filtered)를 AE_04에 넣어서 결과 Car out (denoised)\n",
    "    - Car out (denoised)를 입력 (Input)\n",
    "- SVM_03 (svc_03)\n",
    "    - Car out (noisy)를 AE_02에 넣으면 Car out (denoised)\n",
    "    - Car out (denoised)를 입력 (Input)\n",
    "- SVM_04 (svc_04)\n",
    "    - Car out (filtered)를 입력 (Input)\n",
    "- Output (정답)\n",
    "    - Car out (filtered)의 레이블"
   ]
  },
  {
   "cell_type": "code",
   "execution_count": 15,
   "metadata": {},
   "outputs": [],
   "source": [
    "# Training data\n",
    "output_num = 10\n",
    "end_line = train_set_num * output_num\n",
    "\n",
    "oh_y_in_train_denoised = one_hot_convert_normal(y_in_train_denoised, end_line, output_num)\n",
    "oh_y_in_train_denoised = np.array(oh_y_in_train_denoised)\n",
    "\n",
    "oh_y_out_train_denoised = one_hot_convert_normal(y_out_train_denoised, end_line, output_num)\n",
    "oh_y_out_train_denoised = np.array(oh_y_out_train_denoised)\n",
    "\n",
    "# Testing data\n",
    "end_line = test_set_num * output_num\n",
    "\n",
    "oh_y_in_test_denoised = one_hot_convert_normal(y_in_test_denoised, end_line, output_num)\n",
    "oh_y_in_test_denoised = np.array(oh_y_in_test_denoised)\n",
    "\n",
    "oh_y_out_test_denoised = one_hot_convert_normal(y_out_test_denoised, end_line, output_num)\n",
    "oh_y_out_test_denoised = np.array(oh_y_out_test_denoised)\n",
    "\n",
    "# Average data\n",
    "# Train data\n",
    "oh_y_in_train = one_hot_convert_normal(y_train, int(4500 * output_num / 10), output_num)\n",
    "oh_y_in_train = np.array(oh_y_in_train)\n",
    "\n",
    "# Test data\n",
    "oh_y_in_test = one_hot_convert_normal(y_test, int(1500 * output_num / 10), output_num)\n",
    "oh_y_in_test = np.array(oh_y_in_test)"
   ]
  },
  {
   "cell_type": "markdown",
   "metadata": {},
   "source": [
    "## SVM"
   ]
  },
  {
   "cell_type": "code",
   "execution_count": 16,
   "metadata": {},
   "outputs": [],
   "source": [
    "svc_01 = pickle.load(open('svc_01.sav', 'rb'))\n",
    "svc_02 = pickle.load(open('svc_02.sav', 'rb'))\n",
    "svc_03 = pickle.load(open('svc_03.sav', 'rb'))\n",
    "svc_04 = pickle.load(open('svc_04.sav', 'rb'))"
   ]
  },
  {
   "cell_type": "code",
   "execution_count": 17,
   "metadata": {},
   "outputs": [],
   "source": [
    "x_train = np.array(x_train)\n",
    "x_test = np.array(x_test)\n",
    "ae_x_in_train = x_train.astype('float32') / -100.\n",
    "ae_x_in_test = x_test.astype('float32') / -100."
   ]
  },
  {
   "cell_type": "code",
   "execution_count": null,
   "metadata": {},
   "outputs": [],
   "source": []
  },
  {
   "cell_type": "markdown",
   "metadata": {},
   "source": [
    "## TEST (revised)\n",
    "- Car in (filtered) → AE_04 → Car out (denoised) → SVM\n",
    "- Car out (filtered) → SVM\n",
    "- Car out (noisy) → AE_02 → Car out (denoised) → SVM\n",
    "- Car in (noisy) → AE_03 → Car out (denoised) → SVM\n",
    "- Car in (noisy) → AE_01 → Car in (denoised) → AE_04 → Car out (denoised) → SVM\n",
    "- ★New★\n",
    "- Car in (noisy) → AE_01 → Average → Car in (denoised) → AE_04 → Car out (denoised) → SVM"
   ]
  },
  {
   "cell_type": "code",
   "execution_count": 18,
   "metadata": {},
   "outputs": [
    {
     "name": "stdout",
     "output_type": "stream",
     "text": [
      "svc_01\n",
      "\n",
      "test_01\n",
      "[SVM] Training data accuracy: 0.100\n",
      "[SVM] Testing data accuracy: 0.100\n",
      "\n",
      "\n",
      "test_02\n",
      "[SVM] Training data accuracy: 0.100\n",
      "[SVM] Testing data accuracy: 0.100\n",
      "\n",
      "\n",
      "test_03\n",
      "[SVM] Training data accuracy: 0.100\n",
      "[SVM] Testing data accuracy: 0.100\n",
      "\n",
      "\n",
      "test_04\n",
      "[SVM] Training data accuracy: 0.763\n",
      "[SVM] Testing data accuracy: 0.693\n",
      "\n",
      "\n",
      "test_05\n",
      "[SVM] Training data accuracy: 0.100\n",
      "[SVM] Testing data accuracy: 0.100\n",
      "\n",
      "\n",
      "test_06\n",
      "[SVM] Training data accuracy: 0.100\n",
      "[SVM] Testing data accuracy: 0.100\n",
      "\n",
      "\n"
     ]
    }
   ],
   "source": [
    "print(\"svc_01\\n\")\n",
    "\n",
    "print(\"test_01\")\n",
    "after_autoencoder_x_train = autoencoder_04.predict(ae_x_in_train_denoised) * (-100)\n",
    "after_autoencoder_x_test = autoencoder_04.predict(ae_x_in_test_denoised) * (-100)\n",
    "print(\"[SVM] Training data accuracy: {:.3f}\".format(svc_01.score(after_autoencoder_x_train, oh_y_out_train_denoised)))\n",
    "print(\"[SVM] Testing data accuracy: {:.3f}\".format(svc_01.score(after_autoencoder_x_test, oh_y_out_test_denoised)))\n",
    "print(\"\\n\")\n",
    "\n",
    "print(\"test_02\")\n",
    "print(\"[SVM] Training data accuracy: {:.3f}\".format(svc_01.score(x_out_train_denoised, oh_y_out_train_denoised)))\n",
    "print(\"[SVM] Testing data accuracy: {:.3f}\".format(svc_01.score(x_out_test_denoised, oh_y_out_test_denoised)))\n",
    "print(\"\\n\")\n",
    "\n",
    "print(\"test_03\")\n",
    "after_autoencoder_x_train = autoencoder_02.predict(ae_x_out_train_noisy) * (-100)\n",
    "after_autoencoder_x_test = autoencoder_02.predict(ae_x_out_test_noisy) * (-100)\n",
    "print(\"[SVM] Training data accuracy: {:.3f}\".format(svc_01.score(after_autoencoder_x_train, oh_y_out_train_denoised)))\n",
    "print(\"[SVM] Testing data accuracy: {:.3f}\".format(svc_01.score(after_autoencoder_x_test, oh_y_out_test_denoised)))\n",
    "print(\"\\n\")\n",
    "\n",
    "print(\"test_04\")\n",
    "after_autoencoder_x_train = autoencoder_03.predict(ae_x_in_train_noisy) * (-100)\n",
    "after_autoencoder_x_test = autoencoder_03.predict(ae_x_in_test_noisy) * (-100)\n",
    "print(\"[SVM] Training data accuracy: {:.3f}\".format(svc_01.score(after_autoencoder_x_train, oh_y_out_train_denoised)))\n",
    "print(\"[SVM] Testing data accuracy: {:.3f}\".format(svc_01.score(after_autoencoder_x_test, oh_y_out_test_denoised)))\n",
    "print(\"\\n\")\n",
    "\n",
    "print(\"test_05\")\n",
    "after_autoencoder_x_train = autoencoder_01.predict(ae_x_in_train_noisy)\n",
    "after_autoencoder_x_test = autoencoder_01.predict(ae_x_in_test_noisy)\n",
    "after_autoencoder_x_train = autoencoder_04.predict(after_autoencoder_x_train) * (-100)\n",
    "after_autoencoder_x_test = autoencoder_04.predict(after_autoencoder_x_test) * (-100)\n",
    "print(\"[SVM] Training data accuracy: {:.3f}\".format(svc_01.score(after_autoencoder_x_train, oh_y_out_train_denoised)))\n",
    "print(\"[SVM] Testing data accuracy: {:.3f}\".format(svc_01.score(after_autoencoder_x_test, oh_y_out_test_denoised)))\n",
    "print(\"\\n\")\n",
    "\n",
    "print(\"test_06\")\n",
    "after_autoencoder_x_train = autoencoder_04.predict(ae_x_in_train) * (-100)\n",
    "after_autoencoder_x_test = autoencoder_04.predict(ae_x_in_test) * (-100)\n",
    "print(\"[SVM] Training data accuracy: {:.3f}\".format(svc_01.score(after_autoencoder_x_train, oh_y_in_train)))\n",
    "print(\"[SVM] Testing data accuracy: {:.3f}\".format(svc_01.score(after_autoencoder_x_test, oh_y_in_test)))\n",
    "print(\"\\n\")"
   ]
  },
  {
   "cell_type": "code",
   "execution_count": 19,
   "metadata": {},
   "outputs": [
    {
     "name": "stdout",
     "output_type": "stream",
     "text": [
      "svc_02\n",
      "\n",
      "test_01\n",
      "[SVM] Training data accuracy: 0.963\n",
      "[SVM] Testing data accuracy: 0.959\n",
      "\n",
      "\n",
      "test_02\n",
      "[SVM] Training data accuracy: 0.102\n",
      "[SVM] Testing data accuracy: 0.102\n",
      "\n",
      "\n",
      "test_03\n",
      "[SVM] Training data accuracy: 0.750\n",
      "[SVM] Testing data accuracy: 0.745\n",
      "\n",
      "\n",
      "test_04\n",
      "[SVM] Training data accuracy: 0.100\n",
      "[SVM] Testing data accuracy: 0.100\n",
      "\n",
      "\n",
      "test_05\n",
      "[SVM] Training data accuracy: 0.512\n",
      "[SVM] Testing data accuracy: 0.508\n",
      "\n",
      "\n",
      "test_06\n",
      "[SVM] Training data accuracy: 0.916\n",
      "[SVM] Testing data accuracy: 0.922\n",
      "\n",
      "\n"
     ]
    }
   ],
   "source": [
    "print(\"svc_02\\n\")\n",
    "\n",
    "print(\"test_01\")\n",
    "after_autoencoder_x_train = autoencoder_04.predict(ae_x_in_train_denoised) * (-100)\n",
    "after_autoencoder_x_test = autoencoder_04.predict(ae_x_in_test_denoised) * (-100)\n",
    "print(\"[SVM] Training data accuracy: {:.3f}\".format(svc_02.score(after_autoencoder_x_train, oh_y_out_train_denoised)))\n",
    "print(\"[SVM] Testing data accuracy: {:.3f}\".format(svc_02.score(after_autoencoder_x_test, oh_y_out_test_denoised)))\n",
    "print(\"\\n\")\n",
    "\n",
    "print(\"test_02\")\n",
    "print(\"[SVM] Training data accuracy: {:.3f}\".format(svc_02.score(x_out_train_denoised, oh_y_out_train_denoised)))\n",
    "print(\"[SVM] Testing data accuracy: {:.3f}\".format(svc_02.score(x_out_test_denoised, oh_y_out_test_denoised)))\n",
    "print(\"\\n\")\n",
    "\n",
    "print(\"test_03\")\n",
    "after_autoencoder_x_train = autoencoder_02.predict(ae_x_out_train_noisy) * (-100)\n",
    "after_autoencoder_x_test = autoencoder_02.predict(ae_x_out_test_noisy) * (-100)\n",
    "print(\"[SVM] Training data accuracy: {:.3f}\".format(svc_02.score(after_autoencoder_x_train, oh_y_out_train_denoised)))\n",
    "print(\"[SVM] Testing data accuracy: {:.3f}\".format(svc_02.score(after_autoencoder_x_test, oh_y_out_test_denoised)))\n",
    "print(\"\\n\")\n",
    "\n",
    "print(\"test_04\")\n",
    "after_autoencoder_x_train = autoencoder_03.predict(ae_x_in_train_noisy) * (-100)\n",
    "after_autoencoder_x_test = autoencoder_03.predict(ae_x_in_test_noisy) * (-100)\n",
    "print(\"[SVM] Training data accuracy: {:.3f}\".format(svc_02.score(after_autoencoder_x_train, oh_y_out_train_denoised)))\n",
    "print(\"[SVM] Testing data accuracy: {:.3f}\".format(svc_02.score(after_autoencoder_x_test, oh_y_out_test_denoised)))\n",
    "print(\"\\n\")\n",
    "\n",
    "print(\"test_05\")\n",
    "after_autoencoder_x_train = autoencoder_01.predict(ae_x_in_train_noisy)\n",
    "after_autoencoder_x_test = autoencoder_01.predict(ae_x_in_test_noisy)\n",
    "after_autoencoder_x_train = autoencoder_04.predict(after_autoencoder_x_train) * (-100)\n",
    "after_autoencoder_x_test = autoencoder_04.predict(after_autoencoder_x_test) * (-100)\n",
    "print(\"[SVM] Training data accuracy: {:.3f}\".format(svc_02.score(after_autoencoder_x_train, oh_y_out_train_denoised)))\n",
    "print(\"[SVM] Testing data accuracy: {:.3f}\".format(svc_02.score(after_autoencoder_x_test, oh_y_out_test_denoised)))\n",
    "print(\"\\n\")\n",
    "\n",
    "print(\"test_06\")\n",
    "after_autoencoder_x_train = autoencoder_04.predict(ae_x_in_train) * (-100)\n",
    "after_autoencoder_x_test = autoencoder_04.predict(ae_x_in_test) * (-100)\n",
    "print(\"[SVM] Training data accuracy: {:.3f}\".format(svc_02.score(after_autoencoder_x_train, oh_y_in_train)))\n",
    "print(\"[SVM] Testing data accuracy: {:.3f}\".format(svc_02.score(after_autoencoder_x_test, oh_y_in_test)))\n",
    "print(\"\\n\")"
   ]
  },
  {
   "cell_type": "code",
   "execution_count": 20,
   "metadata": {},
   "outputs": [
    {
     "name": "stdout",
     "output_type": "stream",
     "text": [
      "svc_03\n",
      "\n",
      "test_01\n",
      "[SVM] Training data accuracy: 0.453\n",
      "[SVM] Testing data accuracy: 0.447\n",
      "\n",
      "\n",
      "test_02\n",
      "[SVM] Training data accuracy: 0.123\n",
      "[SVM] Testing data accuracy: 0.124\n",
      "\n",
      "\n",
      "test_03\n",
      "[SVM] Training data accuracy: 0.991\n",
      "[SVM] Testing data accuracy: 0.976\n",
      "\n",
      "\n",
      "test_04\n",
      "[SVM] Training data accuracy: 0.100\n",
      "[SVM] Testing data accuracy: 0.100\n",
      "\n",
      "\n",
      "test_05\n",
      "[SVM] Training data accuracy: 0.280\n",
      "[SVM] Testing data accuracy: 0.281\n",
      "\n",
      "\n",
      "test_06\n",
      "[SVM] Training data accuracy: 0.304\n",
      "[SVM] Testing data accuracy: 0.301\n",
      "\n",
      "\n"
     ]
    }
   ],
   "source": [
    "print(\"svc_03\\n\")\n",
    "\n",
    "print(\"test_01\")\n",
    "after_autoencoder_x_train = autoencoder_04.predict(ae_x_in_train_denoised) * (-100)\n",
    "after_autoencoder_x_test = autoencoder_04.predict(ae_x_in_test_denoised) * (-100)\n",
    "print(\"[SVM] Training data accuracy: {:.3f}\".format(svc_03.score(after_autoencoder_x_train, oh_y_out_train_denoised)))\n",
    "print(\"[SVM] Testing data accuracy: {:.3f}\".format(svc_03.score(after_autoencoder_x_test, oh_y_out_test_denoised)))\n",
    "print(\"\\n\")\n",
    "\n",
    "print(\"test_02\")\n",
    "print(\"[SVM] Training data accuracy: {:.3f}\".format(svc_03.score(x_out_train_denoised, oh_y_out_train_denoised)))\n",
    "print(\"[SVM] Testing data accuracy: {:.3f}\".format(svc_03.score(x_out_test_denoised, oh_y_out_test_denoised)))\n",
    "print(\"\\n\")\n",
    "\n",
    "print(\"test_03\")\n",
    "after_autoencoder_x_train = autoencoder_02.predict(ae_x_out_train_noisy) * (-100)\n",
    "after_autoencoder_x_test = autoencoder_02.predict(ae_x_out_test_noisy) * (-100)\n",
    "print(\"[SVM] Training data accuracy: {:.3f}\".format(svc_03.score(after_autoencoder_x_train, oh_y_out_train_denoised)))\n",
    "print(\"[SVM] Testing data accuracy: {:.3f}\".format(svc_03.score(after_autoencoder_x_test, oh_y_out_test_denoised)))\n",
    "print(\"\\n\")\n",
    "\n",
    "print(\"test_04\")\n",
    "after_autoencoder_x_train = autoencoder_03.predict(ae_x_in_train_noisy) * (-100)\n",
    "after_autoencoder_x_test = autoencoder_03.predict(ae_x_in_test_noisy) * (-100)\n",
    "print(\"[SVM] Training data accuracy: {:.3f}\".format(svc_03.score(after_autoencoder_x_train, oh_y_out_train_denoised)))\n",
    "print(\"[SVM] Testing data accuracy: {:.3f}\".format(svc_03.score(after_autoencoder_x_test, oh_y_out_test_denoised)))\n",
    "print(\"\\n\")\n",
    "\n",
    "print(\"test_05\")\n",
    "after_autoencoder_x_train = autoencoder_01.predict(ae_x_in_train_noisy)\n",
    "after_autoencoder_x_test = autoencoder_01.predict(ae_x_in_test_noisy)\n",
    "after_autoencoder_x_train = autoencoder_04.predict(after_autoencoder_x_train) * (-100)\n",
    "after_autoencoder_x_test = autoencoder_04.predict(after_autoencoder_x_test) * (-100)\n",
    "print(\"[SVM] Training data accuracy: {:.3f}\".format(svc_03.score(after_autoencoder_x_train, oh_y_out_train_denoised)))\n",
    "print(\"[SVM] Testing data accuracy: {:.3f}\".format(svc_03.score(after_autoencoder_x_test, oh_y_out_test_denoised)))\n",
    "print(\"\\n\")\n",
    "\n",
    "print(\"test_06\")\n",
    "after_autoencoder_x_train = autoencoder_04.predict(ae_x_in_train) * (-100)\n",
    "after_autoencoder_x_test = autoencoder_04.predict(ae_x_in_test) * (-100)\n",
    "print(\"[SVM] Training data accuracy: {:.3f}\".format(svc_03.score(after_autoencoder_x_train, oh_y_in_train)))\n",
    "print(\"[SVM] Testing data accuracy: {:.3f}\".format(svc_03.score(after_autoencoder_x_test, oh_y_in_test)))\n",
    "print(\"\\n\")"
   ]
  },
  {
   "cell_type": "code",
   "execution_count": 21,
   "metadata": {},
   "outputs": [
    {
     "name": "stdout",
     "output_type": "stream",
     "text": [
      "svc_04\n",
      "\n",
      "test_01\n",
      "[SVM] Training data accuracy: 0.195\n",
      "[SVM] Testing data accuracy: 0.194\n",
      "\n",
      "\n",
      "test_02\n",
      "[SVM] Training data accuracy: 1.000\n",
      "[SVM] Testing data accuracy: 0.998\n",
      "\n",
      "\n",
      "test_03\n",
      "[SVM] Training data accuracy: 0.197\n",
      "[SVM] Testing data accuracy: 0.197\n",
      "\n",
      "\n",
      "test_04\n",
      "[SVM] Training data accuracy: 0.100\n",
      "[SVM] Testing data accuracy: 0.100\n",
      "\n",
      "\n",
      "test_05\n",
      "[SVM] Training data accuracy: 0.166\n",
      "[SVM] Testing data accuracy: 0.164\n",
      "\n",
      "\n",
      "test_06\n",
      "[SVM] Training data accuracy: 0.192\n",
      "[SVM] Testing data accuracy: 0.193\n",
      "\n",
      "\n"
     ]
    }
   ],
   "source": [
    "print(\"svc_04\\n\")\n",
    "\n",
    "print(\"test_01\")\n",
    "after_autoencoder_x_train = autoencoder_04.predict(ae_x_in_train_denoised) * (-100)\n",
    "after_autoencoder_x_test = autoencoder_04.predict(ae_x_in_test_denoised) * (-100)\n",
    "print(\"[SVM] Training data accuracy: {:.3f}\".format(svc_04.score(after_autoencoder_x_train, oh_y_out_train_denoised)))\n",
    "print(\"[SVM] Testing data accuracy: {:.3f}\".format(svc_04.score(after_autoencoder_x_test, oh_y_out_test_denoised)))\n",
    "print(\"\\n\")\n",
    "\n",
    "print(\"test_02\")\n",
    "print(\"[SVM] Training data accuracy: {:.3f}\".format(svc_04.score(x_out_train_denoised, oh_y_out_train_denoised)))\n",
    "print(\"[SVM] Testing data accuracy: {:.3f}\".format(svc_04.score(x_out_test_denoised, oh_y_out_test_denoised)))\n",
    "print(\"\\n\")\n",
    "\n",
    "print(\"test_03\")\n",
    "after_autoencoder_x_train = autoencoder_02.predict(ae_x_out_train_noisy) * (-100)\n",
    "after_autoencoder_x_test = autoencoder_02.predict(ae_x_out_test_noisy) * (-100)\n",
    "print(\"[SVM] Training data accuracy: {:.3f}\".format(svc_04.score(after_autoencoder_x_train, oh_y_out_train_denoised)))\n",
    "print(\"[SVM] Testing data accuracy: {:.3f}\".format(svc_04.score(after_autoencoder_x_test, oh_y_out_test_denoised)))\n",
    "print(\"\\n\")\n",
    "\n",
    "print(\"test_04\")\n",
    "after_autoencoder_x_train = autoencoder_03.predict(ae_x_in_train_noisy) * (-100)\n",
    "after_autoencoder_x_test = autoencoder_03.predict(ae_x_in_test_noisy) * (-100)\n",
    "print(\"[SVM] Training data accuracy: {:.3f}\".format(svc_04.score(after_autoencoder_x_train, oh_y_out_train_denoised)))\n",
    "print(\"[SVM] Testing data accuracy: {:.3f}\".format(svc_04.score(after_autoencoder_x_test, oh_y_out_test_denoised)))\n",
    "print(\"\\n\")\n",
    "\n",
    "print(\"test_05\")\n",
    "after_autoencoder_x_train = autoencoder_01.predict(ae_x_in_train_noisy)\n",
    "after_autoencoder_x_test = autoencoder_01.predict(ae_x_in_test_noisy)\n",
    "after_autoencoder_x_train = autoencoder_04.predict(after_autoencoder_x_train) * (-100)\n",
    "after_autoencoder_x_test = autoencoder_04.predict(after_autoencoder_x_test) * (-100)\n",
    "print(\"[SVM] Training data accuracy: {:.3f}\".format(svc_04.score(after_autoencoder_x_train, oh_y_out_train_denoised)))\n",
    "print(\"[SVM] Testing data accuracy: {:.3f}\".format(svc_04.score(after_autoencoder_x_test, oh_y_out_test_denoised)))\n",
    "print(\"\\n\")\n",
    "\n",
    "print(\"test_06\")\n",
    "after_autoencoder_x_train = autoencoder_04.predict(ae_x_in_train) * (-100)\n",
    "after_autoencoder_x_test = autoencoder_04.predict(ae_x_in_test) * (-100)\n",
    "print(\"[SVM] Training data accuracy: {:.3f}\".format(svc_04.score(after_autoencoder_x_train, oh_y_in_train)))\n",
    "print(\"[SVM] Testing data accuracy: {:.3f}\".format(svc_04.score(after_autoencoder_x_test, oh_y_in_test)))\n",
    "print(\"\\n\")"
   ]
  },
  {
   "cell_type": "code",
   "execution_count": null,
   "metadata": {},
   "outputs": [],
   "source": []
  }
 ],
 "metadata": {
  "kernelspec": {
   "display_name": "Python 3",
   "language": "python",
   "name": "python3"
  },
  "language_info": {
   "codemirror_mode": {
    "name": "ipython",
    "version": 3
   },
   "file_extension": ".py",
   "mimetype": "text/x-python",
   "name": "python",
   "nbconvert_exporter": "python",
   "pygments_lexer": "ipython3",
   "version": "3.7.4"
  }
 },
 "nbformat": 4,
 "nbformat_minor": 2
}
